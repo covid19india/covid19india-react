{
 "cells": [
  {
   "cell_type": "code",
   "execution_count": 1,
   "metadata": {},
   "outputs": [],
   "source": [
    "from bs4 import BeautifulSoup as BS\n",
    "\n",
    "\n",
    "import requests"
   ]
  },
  {
   "cell_type": "code",
   "execution_count": 3,
   "metadata": {},
   "outputs": [
    {
     "name": "stdout",
     "output_type": "stream",
     "text": [
      "Total Cases : 14,971,323\n",
      "Recovered Cases : 8,991,795\n",
      "Total Death : 615,882\n"
     ]
    }
   ],
   "source": [
    "def  status(url):\n",
    "    \n",
    "    data = requests.get(url)\n",
    "    \n",
    "    soup = BS(data.text,'html.parser')\n",
    "    \n",
    "    total =soup.find(\"div\", class_=\"maincounter-number\").text\n",
    "    \n",
    "    total = total[1: len(total)-2]\n",
    "    \n",
    "    other = soup.find_all(\"span\", class_ = \"number-table\")\n",
    "    \n",
    "    recovered = other[2].text\n",
    "    \n",
    "    deaths = other[3].text\n",
    "    \n",
    "    deaths = deaths[1:]\n",
    "    \n",
    "    result= {'Total Cases':total, 'Recovered Cases':recovered, 'Total Death':deaths}\n",
    "    \n",
    "    return result\n",
    "\n",
    "url = \"https://www.worldometers.info/coronavirus/\"\n",
    "\n",
    "result = status(url)\n",
    "\n",
    "for i,j in result.items():\n",
    "    \n",
    "    print(i+\" : \"+j)"
   ]
  },
  {
   "cell_type": "code",
   "execution_count": null,
   "metadata": {},
   "outputs": [],
   "source": []
  }
 ],
 "metadata": {
  "kernelspec": {
   "display_name": "Python 3",
   "language": "python",
   "name": "python3"
  },
  "language_info": {
   "codemirror_mode": {
    "name": "ipython",
    "version": 3
   },
   "file_extension": ".py",
   "mimetype": "text/x-python",
   "name": "python",
   "nbconvert_exporter": "python",
   "pygments_lexer": "ipython3",
   "version": "3.7.4"
  }
 },
 "nbformat": 4,
 "nbformat_minor": 2
}
